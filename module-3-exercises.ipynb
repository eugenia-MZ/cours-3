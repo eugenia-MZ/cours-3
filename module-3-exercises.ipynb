{
 "cells": [
  {
   "cell_type": "markdown",
   "metadata": {},
   "source": [
    "# Module 3: String Manipulation and Loops\n",
    "\n",
    "Practice working with string methods and loops in Python."
   ]
  },
  {
   "cell_type": "markdown",
   "metadata": {},
   "source": [
    "## Exercise 1: String Methods\n",
    "\n",
    "Explore various string methods in Python."
   ]
  },
  {
   "cell_type": "code",
   "execution_count": null,
   "metadata": {},
   "outputs": [],
   "source": [
    "# TODO: Create a string variable with a sentence\n",
    "\n",
    "# TODO: Convert the string to uppercase\n",
    "\n",
    "# TODO: Convert the string to lowercase\n",
    "\n",
    "# TODO: Capitalize the first letter of each word\n",
    "\n",
    "# TODO: Replace a word in the string\n",
    "\n",
    "# TODO: Split the string into a list of words\n",
    "\n",
    "# TODO: Join the list of words back into a string using a different separator\n",
    "\n",
    "# TODO: Find the position of a specific word in the string\n",
    "\n",
    "# TODO: Check if the string starts with a specific word\n",
    "\n",
    "# TODO: Remove leading and trailing whitespace from a string\n",
    "\n",
    "# Print the results of each operation\n"
   ]
  },
  {
   "cell_type": "markdown",
   "metadata": {},
   "source": [
    "## Exercise 2: String Formatting\n",
    "\n",
    "Practice different ways of formatting strings."
   ]
  },
  {
   "cell_type": "code",
   "execution_count": null,
   "metadata": {},
   "outputs": [],
   "source": [
    "# TODO: Create variables for name, age, and height\n",
    "\n",
    "# TODO: Use the .format() method to create a sentence with these variables\n",
    "\n",
    "# TODO: Use f-strings to create the same sentence\n",
    "\n",
    "# TODO: Use the % operator for string formatting\n",
    "\n",
    "# TODO: Format a float number to display only two decimal places\n",
    "\n",
    "# TODO: Create a table-like output using string formatting\n",
    "\n",
    "# Print all formatted strings\n"
   ]
  },
  {
   "cell_type": "markdown",
   "metadata": {},
   "source": [
    "## Exercise 3: For Loops\n",
    "\n",
    "Practice using for loops with different data structures."
   ]
  },
  {
   "cell_type": "code",
   "execution_count": null,
   "metadata": {},
   "outputs": [],
   "source": [
    "# TODO: Create a list of numbers\n",
    "numbers = []\n",
    "\n",
    "# TODO: Use a for loop to print each number in the list\n",
    "\n",
    "# TODO: Use a for loop with enumerate() to print both index and value\n",
    "\n",
    "# TODO: Create a dictionary and use a for loop to print all keys and values\n",
    "\n",
    "# TODO: Use a for loop with range() to print numbers from 1 to 10\n",
    "\n",
    "# TODO: Use list comprehension to create a new list of squares of numbers\n",
    "\n",
    "# TODO: Use a nested for loop to create a multiplication table (up to 5x5)\n"
   ]
  },
  {
   "cell_type": "markdown",
   "metadata": {},
   "source": [
    "## Exercise 4: While Loops\n",
    "\n",
    "Practice using while loops for different scenarios."
   ]
  },
  {
   "cell_type": "code",
   "execution_count": null,
   "metadata": {},
   "outputs": [],
   "source": [
    "# TODO: Use a while loop to print numbers from 1 to 10\n",
    "\n",
    "# TODO: Create a guessing game using a while loop\n",
    "# (generate a random number and let the user guess until correct)\n",
    "\n",
    "# TODO: Use a while loop to calculate the factorial of a number\n",
    "\n",
    "# TODO: Implement a simple calculator using a while loop\n",
    "# (continue calculating until the user chooses to exit)\n"
   ]
  },
  {
   "cell_type": "markdown",
   "metadata": {},
   "source": [
    "## Exercise 5: Combining Strings and Loops\n",
    "\n",
    "Solve problems that involve both string manipulation and loops."
   ]
  },
  {
   "cell_type": "code",
   "execution_count": null,
   "metadata": {},
   "outputs": [],
   "source": [
    "# TODO: Create a function that counts the occurrence of each vowel in a string\n",
    "\n",
    "# TODO: Implement a simple Caesar cipher (shift each letter by a fixed amount)\n",
    "\n",
    "# TODO: Create a function that generates the NATO phonetic alphabet representation of a word\n",
    "\n",
    "# TODO: Implement a function that checks if a string is a palindrome\n",
    "\n",
    "# Test each function with sample inputs and print the results\n"
   ]
  }
 ],
 "metadata": {
  "kernelspec": {
   "display_name": "Python 3 (ipykernel)",
   "language": "python",
   "name": "python3"
  },
  "language_info": {
   "codemirror_mode": {
    "name": "ipython",
    "version": 3
   },
   "file_extension": ".py",
   "mimetype": "text/x-python",
   "name": "python",
   "nbconvert_exporter": "python",
   "pygments_lexer": "ipython3",
   "version": "3.12.4"
  }
 },
 "nbformat": 4,
 "nbformat_minor": 4
}
